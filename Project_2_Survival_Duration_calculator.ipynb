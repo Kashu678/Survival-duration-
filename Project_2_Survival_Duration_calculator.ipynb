{
  "nbformat": 4,
  "nbformat_minor": 0,
  "metadata": {
    "colab": {
      "provenance": []
    },
    "kernelspec": {
      "name": "python3",
      "display_name": "Python 3"
    },
    "language_info": {
      "name": "python"
    }
  },
  "cells": [
    {
      "cell_type": "markdown",
      "source": [
        "**Python Project: Survival Duration Calculator**"
      ],
      "metadata": {
        "id": "UreQUw_BOWA1"
      }
    },
    {
      "cell_type": "markdown",
      "source": [
        "1.\tDefining the class or method for calculating the survival duration.\n",
        "2.\tDefining the logic for calculating the duration in 6 units.\n",
        "3.  The duration should be calculated in different time units like Months,  \n",
        "    Weeks, Days, Hours, Minutes, Seconds."
      ],
      "metadata": {
        "id": "j8FrKC0mOhjk"
      }
    },
    {
      "cell_type": "code",
      "source": [
        "def calculate_duration(age, unit):\n",
        "    if unit.lower() in ['months', 'm']:\n",
        "        return age * 12\n",
        "    elif unit.lower() in ['weeks', 'w']:\n",
        "        return age * 52\n",
        "    elif unit.lower() in ['days', 'd']:\n",
        "        return age * 365\n",
        "    elif unit.lower() in ['hours', 'h']:\n",
        "        return age * 365 * 24\n",
        "    elif unit.lower() in ['minutes', 'min']:\n",
        "        return age * 365 * 24 * 60\n",
        "    elif unit.lower() in ['seconds', 'sec']:\n",
        "        return age * 365 * 24 * 60 * 60\n",
        "    else:\n",
        "        return \"Invalid time unit\"\n",
        "\n",
        "def main():\n",
        "    age = int(input(\"What's your age? \"))\n",
        "    unit = input(\"Please choose time unit: Months, Weeks, Days, Hours, Minutes, Seconds.\\nNOTE- You can write the first letter or the full name of the time unit. \").strip().lower()\n",
        "    duration = calculate_duration(age, unit)\n",
        "    print(f\"You lived for {duration} {unit}\")\n",
        "\n",
        "if __name__ == \"__main__\":\n",
        "    main()\n"
      ],
      "metadata": {
        "id": "z9F4arnO9kIv",
        "colab": {
          "base_uri": "https://localhost:8080/"
        },
        "outputId": "e54a985e-b504-4edc-dcfa-6b97220d7f1d"
      },
      "execution_count": null,
      "outputs": [
        {
          "output_type": "stream",
          "name": "stdout",
          "text": [
            "What's your age? 12\n",
            "Please choose time unit: Months, Weeks, Days, Hours, Minutes, Seconds.\n",
            "NOTE- You can write the first letter or the full name of the time unit. sec\n",
            "You lived for 378432000 sec\n"
          ]
        }
      ]
    },
    {
      "cell_type": "code",
      "source": [],
      "metadata": {
        "id": "C_3t7IFPQnK9"
      },
      "execution_count": null,
      "outputs": []
    }
  ]
}